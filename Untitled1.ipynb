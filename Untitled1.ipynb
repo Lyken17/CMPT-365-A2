{
 "cells": [
  {
   "cell_type": "code",
   "execution_count": 10,
   "metadata": {
    "collapsed": true
   },
   "outputs": [],
   "source": [
    "import numpy as np\n",
    "from scipy.fftpack import dct, idct"
   ]
  },
  {
   "cell_type": "code",
   "execution_count": 11,
   "metadata": {
    "collapsed": true
   },
   "outputs": [],
   "source": [
    "a = np.random.random((4, 4))"
   ]
  },
  {
   "cell_type": "code",
   "execution_count": 13,
   "metadata": {
    "collapsed": false
   },
   "outputs": [
    {
     "data": {
      "text/plain": [
       "array([[ 0.31186908,  0.0929953 ,  0.98868797,  0.60224126],\n",
       "       [ 0.71968979,  0.81313628,  0.24736462,  0.18271348],\n",
       "       [ 0.37258419,  0.17742007,  0.34760572,  0.25481755],\n",
       "       [ 0.19252588,  0.98955235,  0.02732782,  0.7744553 ]])"
      ]
     },
     "execution_count": 13,
     "metadata": {},
     "output_type": "execute_result"
    }
   ],
   "source": [
    "a"
   ]
  },
  {
   "cell_type": "code",
   "execution_count": 14,
   "metadata": {
    "collapsed": false
   },
   "outputs": [
    {
     "data": {
      "text/plain": [
       "array([[  3.19333786e+00,   4.14620799e+00,   3.22197226e+00,\n",
       "          3.62845517e+00],\n",
       "       [  4.86180606e-01,  -1.17006530e+00,   1.69964073e+00,\n",
       "         -3.73396106e-01],\n",
       "       [ -8.31386497e-01,   1.30095337e-01,   5.95448191e-01,\n",
       "          1.32818064e+00],\n",
       "       [ -5.50026194e-01,  -1.86084545e+00,   9.21014614e-01,\n",
       "          1.42402712e-03]])"
      ]
     },
     "execution_count": 14,
     "metadata": {},
     "output_type": "execute_result"
    }
   ],
   "source": [
    "dct(a, axis = 0)"
   ]
  },
  {
   "cell_type": "code",
   "execution_count": 15,
   "metadata": {
    "collapsed": false
   },
   "outputs": [
    {
     "data": {
      "text/plain": [
       "array([[ 3.99158722, -1.22207134, -0.23698391,  1.43278302],\n",
       "       [ 3.92580834,  1.42522573, -0.22358381, -0.63442584],\n",
       "       [ 2.30485505,  0.08734993,  0.14478145,  0.40459676],\n",
       "       [ 3.96772268, -0.33881059, -0.07056783, -2.2233486 ]])"
      ]
     },
     "execution_count": 15,
     "metadata": {},
     "output_type": "execute_result"
    }
   ],
   "source": [
    "dct(a, axis = 1)"
   ]
  },
  {
   "cell_type": "code",
   "execution_count": 6,
   "metadata": {
    "collapsed": false
   },
   "outputs": [
    {
     "data": {
      "text/plain": [
       "array([[ 4.99425775,  0.68991016,  0.67379409],\n",
       "       [ 0.47422924,  0.4310114 ,  0.70223706],\n",
       "       [ 0.94288832,  0.7466993 ,  0.77775383]])"
      ]
     },
     "execution_count": 6,
     "metadata": {},
     "output_type": "execute_result"
    }
   ],
   "source": [
    "a / b"
   ]
  },
  {
   "cell_type": "code",
   "execution_count": null,
   "metadata": {
    "collapsed": true
   },
   "outputs": [],
   "source": []
  }
 ],
 "metadata": {
  "kernelspec": {
   "display_name": "Python 2",
   "language": "python",
   "name": "python2"
  },
  "language_info": {
   "codemirror_mode": {
    "name": "ipython",
    "version": 2
   },
   "file_extension": ".py",
   "mimetype": "text/x-python",
   "name": "python",
   "nbconvert_exporter": "python",
   "pygments_lexer": "ipython2",
   "version": "2.7.10"
  }
 },
 "nbformat": 4,
 "nbformat_minor": 0
}
