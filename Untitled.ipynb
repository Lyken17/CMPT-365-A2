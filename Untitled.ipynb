{
 "cells": [
  {
   "cell_type": "code",
   "execution_count": 2,
   "metadata": {
    "collapsed": false
   },
   "outputs": [],
   "source": [
    "import cv2\n",
    "import numpy as np"
   ]
  },
  {
   "cell_type": "code",
   "execution_count": 3,
   "metadata": {
    "collapsed": false
   },
   "outputs": [],
   "source": [
    "img = cv2.imread(\"static/saber.jpg\")"
   ]
  },
  {
   "cell_type": "code",
   "execution_count": 18,
   "metadata": {
    "collapsed": false
   },
   "outputs": [
    {
     "data": {
      "text/plain": [
       "array([[[ 48,  29, -19],\n",
       "        [ 46,  29, -19],\n",
       "        [ 44,  31, -18],\n",
       "        ..., \n",
       "        [ 45,  33, -20],\n",
       "        [ 45,  35, -19],\n",
       "        [ 47,  31, -20]],\n",
       "\n",
       "       [[ 48,  29, -19],\n",
       "        [ 46,  29, -19],\n",
       "        [ 45,  31, -18],\n",
       "        ..., \n",
       "        [ 46,  33, -20],\n",
       "        [ 47,  34, -18],\n",
       "        [ 47,  31, -18]],\n",
       "\n",
       "       [[ 47,  29, -19],\n",
       "        [ 48,  29, -19],\n",
       "        [ 46,  31, -18],\n",
       "        ..., \n",
       "        [ 46,  33, -20],\n",
       "        [ 47,  33, -18],\n",
       "        [ 47,  31, -18]],\n",
       "\n",
       "       ..., \n",
       "       [[ 29,  29, -22],\n",
       "        [ 28,  29, -25],\n",
       "        [ 28,  29, -22],\n",
       "        ..., \n",
       "        [ 39,  30, -17],\n",
       "        [ 39,  31, -15],\n",
       "        [ 40,  30, -14]],\n",
       "\n",
       "       [[ 32,  28, -19],\n",
       "        [ 30,  29, -25],\n",
       "        [ 29,  29, -22],\n",
       "        ..., \n",
       "        [ 38,  29, -19],\n",
       "        [ 38,  30, -17],\n",
       "        [ 39,  29, -14]],\n",
       "\n",
       "       [[ 31,  29, -22],\n",
       "        [ 30,  29, -24],\n",
       "        [ 30,  26, -21],\n",
       "        ..., \n",
       "        [ 38,  28, -19],\n",
       "        [ 38,  26, -18],\n",
       "        [ 39,  29, -19]]], dtype=int8)"
      ]
     },
     "execution_count": 18,
     "metadata": {},
     "output_type": "execute_result"
    }
   ],
   "source": [
    "mat_1 = np.array([[0.299,0.587,0.114],[-0.299, -0.587, 0.886],[0.701, -0.587, -0.114]])\n",
    "height, weight = img.shape[:2]\n",
    "rgb_image = img\n",
    "yuv_image = np.einsum('kl,ijl->ijk', mat_1, rgb_image)\n",
    "z = np.empty_like(rgb_image)\n",
    "\n",
    "for x in xrange(height):\n",
    "    for y in xrange(weight):\n",
    "        z[x,y] = np.dot(mat_1, rgb_image[x,y,:])\n",
    "\n",
    "yuv_image = yuv_image.astype(np.int8, copy=False)\n",
    "yuv_image"
   ]
  },
  {
   "cell_type": "code",
   "execution_count": null,
   "metadata": {
    "collapsed": true
   },
   "outputs": [],
   "source": []
  }
 ],
 "metadata": {
  "kernelspec": {
   "display_name": "Python 2",
   "language": "python",
   "name": "python2"
  },
  "language_info": {
   "codemirror_mode": {
    "name": "ipython",
    "version": 2
   },
   "file_extension": ".py",
   "mimetype": "text/x-python",
   "name": "python",
   "nbconvert_exporter": "python",
   "pygments_lexer": "ipython2",
   "version": "2.7.10"
  }
 },
 "nbformat": 4,
 "nbformat_minor": 0
}
