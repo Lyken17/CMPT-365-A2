{
 "cells": [
  {
   "cell_type": "code",
   "execution_count": 52,
   "metadata": {
    "collapsed": false
   },
   "outputs": [],
   "source": [
    "import cv2\n",
    "import numpy as np\n",
    "from numpy.linalg import inv\n",
    "\n",
    "img_dir = \"static/saber.jpg\""
   ]
  },
  {
   "cell_type": "code",
   "execution_count": 55,
   "metadata": {
    "collapsed": false
   },
   "outputs": [
    {
     "data": {
      "text/plain": [
       "array([[[29, 52, 78],\n",
       "        [27, 50, 76],\n",
       "        [26, 48, 76],\n",
       "        ..., \n",
       "        [25, 49, 79],\n",
       "        [26, 49, 81],\n",
       "        [27, 51, 79]],\n",
       "\n",
       "       [[29, 52, 78],\n",
       "        [27, 50, 76],\n",
       "        [27, 49, 77],\n",
       "        ..., \n",
       "        [26, 50, 80],\n",
       "        [29, 50, 82],\n",
       "        [29, 51, 79]],\n",
       "\n",
       "       [[28, 51, 77],\n",
       "        [29, 52, 78],\n",
       "        [28, 50, 78],\n",
       "        ..., \n",
       "        [26, 50, 80],\n",
       "        [29, 50, 81],\n",
       "        [29, 51, 79]],\n",
       "\n",
       "       ..., \n",
       "       [[ 7, 35, 59],\n",
       "        [ 3, 35, 58],\n",
       "        [ 6, 34, 58],\n",
       "        ..., \n",
       "        [22, 43, 70],\n",
       "        [24, 42, 71],\n",
       "        [26, 42, 71]],\n",
       "\n",
       "       [[13, 37, 61],\n",
       "        [ 5, 37, 60],\n",
       "        [ 7, 35, 59],\n",
       "        ..., \n",
       "        [19, 42, 68],\n",
       "        [21, 42, 69],\n",
       "        [25, 42, 69]],\n",
       "\n",
       "       [[ 9, 37, 61],\n",
       "        [ 6, 37, 60],\n",
       "        [ 9, 36, 57],\n",
       "        ..., \n",
       "        [19, 43, 67],\n",
       "        [20, 43, 65],\n",
       "        [20, 43, 69]]], dtype=uint8)"
      ]
     },
     "execution_count": 55,
     "metadata": {},
     "output_type": "execute_result"
    }
   ],
   "source": [
    "data = cv2.imread(img_dir)\n",
    "img = np.zeros_like(data, dtype=float)\n",
    "\n",
    "data"
   ]
  },
  {
   "cell_type": "code",
   "execution_count": 56,
   "metadata": {
    "collapsed": false
   },
   "outputs": [
    {
     "data": {
      "text/plain": [
       "array([[[ 29.,  52.,  78.],\n",
       "        [ 27.,  50.,  76.],\n",
       "        [ 26.,  48.,  76.],\n",
       "        ..., \n",
       "        [ 25.,  49.,  79.],\n",
       "        [ 26.,  49.,  81.],\n",
       "        [ 27.,  51.,  79.]],\n",
       "\n",
       "       [[ 29.,  52.,  78.],\n",
       "        [ 27.,  50.,  76.],\n",
       "        [ 27.,  49.,  77.],\n",
       "        ..., \n",
       "        [ 26.,  50.,  80.],\n",
       "        [ 29.,  50.,  82.],\n",
       "        [ 29.,  51.,  79.]],\n",
       "\n",
       "       [[ 28.,  51.,  77.],\n",
       "        [ 29.,  52.,  78.],\n",
       "        [ 28.,  50.,  78.],\n",
       "        ..., \n",
       "        [ 26.,  50.,  80.],\n",
       "        [ 29.,  50.,  81.],\n",
       "        [ 29.,  51.,  79.]],\n",
       "\n",
       "       ..., \n",
       "       [[  7.,  35.,  59.],\n",
       "        [  3.,  35.,  58.],\n",
       "        [  6.,  34.,  58.],\n",
       "        ..., \n",
       "        [ 22.,  43.,  70.],\n",
       "        [ 24.,  42.,  71.],\n",
       "        [ 26.,  42.,  71.]],\n",
       "\n",
       "       [[ 13.,  37.,  61.],\n",
       "        [  5.,  37.,  60.],\n",
       "        [  7.,  35.,  59.],\n",
       "        ..., \n",
       "        [ 19.,  42.,  68.],\n",
       "        [ 21.,  42.,  69.],\n",
       "        [ 25.,  42.,  69.]],\n",
       "\n",
       "       [[  9.,  37.,  61.],\n",
       "        [  6.,  37.,  60.],\n",
       "        [  9.,  36.,  57.],\n",
       "        ..., \n",
       "        [ 19.,  43.,  67.],\n",
       "        [ 20.,  43.,  65.],\n",
       "        [ 20.,  43.,  69.]]])"
      ]
     },
     "execution_count": 56,
     "metadata": {},
     "output_type": "execute_result"
    }
   ],
   "source": [
    "img[:] = data\n",
    "img "
   ]
  },
  {
   "cell_type": "code",
   "execution_count": 47,
   "metadata": {
    "collapsed": false
   },
   "outputs": [
    {
     "data": {
      "text/plain": [
       "array([ 47.244  ,  16.61163, -17.7603 ])"
      ]
     },
     "execution_count": 47,
     "metadata": {},
     "output_type": "execute_result"
    }
   ],
   "source": [
    "np.dot(R_Y_mat, img[15, 15])"
   ]
  },
  {
   "cell_type": "code",
   "execution_count": 48,
   "metadata": {
    "collapsed": false
   },
   "outputs": [
    {
     "data": {
      "text/plain": [
       "array([ 27.00027725,  50.9998504 ,  81.00065944])"
      ]
     },
     "execution_count": 48,
     "metadata": {},
     "output_type": "execute_result"
    }
   ],
   "source": [
    "np.dot(Y_R_mat, np.dot(R_Y_mat, img[15, 15]))"
   ]
  },
  {
   "cell_type": "code",
   "execution_count": 49,
   "metadata": {
    "collapsed": false
   },
   "outputs": [
    {
     "data": {
      "text/plain": [
       "array([ 47,  16, 239], dtype=uint8)"
      ]
     },
     "execution_count": 49,
     "metadata": {},
     "output_type": "execute_result"
    }
   ],
   "source": [
    "img[15, 15] = np.dot(R_Y_mat, img[15, 15])\n",
    "img[15, 15]"
   ]
  },
  {
   "cell_type": "code",
   "execution_count": 50,
   "metadata": {
    "collapsed": false
   },
   "outputs": [
    {
     "data": {
      "text/plain": [
       "array([ 319.42027483,  -98.07617325,   79.50922392])"
      ]
     },
     "execution_count": 50,
     "metadata": {},
     "output_type": "execute_result"
    }
   ],
   "source": [
    "np.dot(inv(R_Y_mat), img[15, 15])\n"
   ]
  },
  {
   "cell_type": "code",
   "execution_count": null,
   "metadata": {
    "collapsed": true
   },
   "outputs": [],
   "source": []
  }
 ],
 "metadata": {
  "kernelspec": {
   "display_name": "Python 2",
   "language": "python",
   "name": "python2"
  },
  "language_info": {
   "codemirror_mode": {
    "name": "ipython",
    "version": 2
   },
   "file_extension": ".py",
   "mimetype": "text/x-python",
   "name": "python",
   "nbconvert_exporter": "python",
   "pygments_lexer": "ipython2",
   "version": "2.7.6"
  }
 },
 "nbformat": 4,
 "nbformat_minor": 0
}
